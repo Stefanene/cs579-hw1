{
 "cells": [
  {
   "cell_type": "code",
   "execution_count": 1,
   "metadata": {},
   "outputs": [],
   "source": [
    "import numpy as np\n",
    "import matplotlib.pyplot as plt\n",
    "# from multiprocessing import Pool\n",
    "import numba as nb\n",
    "#from tqdm.notebook import tqdm"
   ]
  },
  {
   "cell_type": "markdown",
   "metadata": {},
   "source": [
    "# High-performance oriented programming habits\n",
    "## The good\n",
    "+ reuse and preallocate variables\n",
    "+ precompute data when possible; access when needed\n",
    "+ vectorize whenever possible (we will practice together)\n",
    "+ think about complementary approaches (sometimes easier to compute)\n",
    "+ check variable data types (even in Python); only start this if result OK\n",
    "## The bad\n",
    "+ nested for-loops\n",
    "+ branching; especially in nested loops\n",
    "+ dynamically changing array sizes\n",
    "## The ugly\n",
    "+ np.vectorize is a for-loop 'wrapper'\n",
    "+ not profiling your code\n",
    "+ asking for a GPU without knowing why\n",
    "## Please note\n",
    "+ me=lazy programmer\n",
    "+ same as you, I'm still learning Python3\n",
    "+ and slow at typing (no jokes please while actively coding in class :-))"
   ]
  },
  {
   "cell_type": "code",
   "execution_count": 2,
   "metadata": {},
   "outputs": [],
   "source": [
    "sbox = np.array([\n",
    "0x63,0x7c,0x77,0x7b,0xf2,0x6b,0x6f,0xc5,0x30,0x01,0x67,0x2b,0xfe,0xd7,0xab,0x76,\n",
    "0xca,0x82,0xc9,0x7d,0xfa,0x59,0x47,0xf0,0xad,0xd4,0xa2,0xaf,0x9c,0xa4,0x72,0xc0,\n",
    "0xb7,0xfd,0x93,0x26,0x36,0x3f,0xf7,0xcc,0x34,0xa5,0xe5,0xf1,0x71,0xd8,0x31,0x15,\n",
    "0x04,0xc7,0x23,0xc3,0x18,0x96,0x05,0x9a,0x07,0x12,0x80,0xe2,0xeb,0x27,0xb2,0x75,\n",
    "0x09,0x83,0x2c,0x1a,0x1b,0x6e,0x5a,0xa0,0x52,0x3b,0xd6,0xb3,0x29,0xe3,0x2f,0x84,\n",
    "0x53,0xd1,0x00,0xed,0x20,0xfc,0xb1,0x5b,0x6a,0xcb,0xbe,0x39,0x4a,0x4c,0x58,0xcf,\n",
    "0xd0,0xef,0xaa,0xfb,0x43,0x4d,0x33,0x85,0x45,0xf9,0x02,0x7f,0x50,0x3c,0x9f,0xa8,\n",
    "0x51,0xa3,0x40,0x8f,0x92,0x9d,0x38,0xf5,0xbc,0xb6,0xda,0x21,0x10,0xff,0xf3,0xd2,\n",
    "0xcd,0x0c,0x13,0xec,0x5f,0x97,0x44,0x17,0xc4,0xa7,0x7e,0x3d,0x64,0x5d,0x19,0x73,\n",
    "0x60,0x81,0x4f,0xdc,0x22,0x2a,0x90,0x88,0x46,0xee,0xb8,0x14,0xde,0x5e,0x0b,0xdb,\n",
    "0xe0,0x32,0x3a,0x0a,0x49,0x06,0x24,0x5c,0xc2,0xd3,0xac,0x62,0x91,0x95,0xe4,0x79,\n",
    "0xe7,0xc8,0x37,0x6d,0x8d,0xd5,0x4e,0xa9,0x6c,0x56,0xf4,0xea,0x65,0x7a,0xae,0x08,\n",
    "0xba,0x78,0x25,0x2e,0x1c,0xa6,0xb4,0xc6,0xe8,0xdd,0x74,0x1f,0x4b,0xbd,0x8b,0x8a,\n",
    "0x70,0x3e,0xb5,0x66,0x48,0x03,0xf6,0x0e,0x61,0x35,0x57,0xb9,0x86,0xc1,0x1d,0x9e,\n",
    "0xe1,0xf8,0x98,0x11,0x69,0xd9,0x8e,0x94,0x9b,0x1e,0x87,0xe9,0xce,0x55,0x28,0xdf,\n",
    "0x8c,0xa1,0x89,0x0d,0xbf,0xe6,0x42,0x68,0x41,0x99,0x2d,0x0f,0xb0,0x54,0xbb,0x16\n",
    "])"
   ]
  },
  {
   "cell_type": "code",
   "execution_count": 3,
   "metadata": {},
   "outputs": [],
   "source": [
    "timings = np.loadtxt('timing_noisy.csv', delimiter=',')\n",
    "timings.shape\n",
    "plaintext = timings[:,range(16)]\n",
    "# extra setup\n",
    "times = timings[:,-1]\n",
    "plaintext = plaintext.astype(int)\n"
   ]
  },
  {
   "cell_type": "markdown",
   "metadata": {},
   "source": [
    "# Attack Recipe from Slides\n",
    "+ Note: n = number of samples; corresponds to rows of .csv\n",
    "+ Attacker guesses a value K as key candidate for the key\n",
    "    + Create two groups: group1 and group0\n",
    "    + for i = 1 to n compute Sbox(firstbyte(p_i) XOR k) – this will be our ‘hypothesis’\n",
    "    + If MSB of result is 1, the corresponding timing t_i goes to group1, otherwise to group0\n",
    "    + On average, the timings of group1 should be higher than of group0\n",
    "    + Averaging helps to get this information and reduce noise\n",
    "    + The difference between averages of two groups is assigned guessed key byte k\n",
    "    + This step needs to be repeated for all key candidates 𝐾 = 0 . . . 255\n",
    "+ The highest difference between the averages shows the most probable value candidate for the key"
   ]
  },
  {
   "cell_type": "code",
   "execution_count": 4,
   "metadata": {},
   "outputs": [],
   "source": [
    "## insert your code here ## perhaps start like this ...\n",
    "\n",
    "# for postion in range(16): # attack all bytes\n",
    "# for row in range(150000): # read all/some rows of .csv\n",
    "    # for k in range(256): # guess our key\n",
    "\n",
    "#             res = sbox[(int(plaintext[row, 0]) ^ k)]\n",
    "\n",
    "# this approach will NOT work though in terms of time available"
   ]
  },
  {
   "cell_type": "code",
   "execution_count": 5,
   "metadata": {},
   "outputs": [],
   "source": [
    "# create two groups\n",
    "# group0 = np.zeros((256, plaintext.shape[0]), times.dtype)\n",
    "# group1 = np.zeros((256, plaintext.shape[0]), times.dtype)\n",
    "\n",
    "delta = np.zeros((plaintext.shape[1], 256), dtype=int)\n",
    "\n",
    "full_keys = np.arange(256)"
   ]
  },
  {
   "cell_type": "code",
   "execution_count": 6,
   "metadata": {},
   "outputs": [
    {
     "name": "stdout",
     "output_type": "stream",
     "text": [
      "(1000000, 16)\n",
      "(256,)\n",
      "(256,)\n"
     ]
    }
   ],
   "source": [
    "# plaintext = plaintext.T\n",
    "print(plaintext.shape)\n",
    "print(full_keys.shape)\n",
    "print(sbox.shape)\n",
    "times = np.reshape(times, (-1,1))"
   ]
  },
  {
   "cell_type": "code",
   "execution_count": 7,
   "metadata": {},
   "outputs": [],
   "source": [
    "@nb.njit(parallel=True, nogil=True)\n",
    "def calculate_delta_parallel(plaintext, full_keys, sbox, times, delta):\n",
    "    for byte in nb.prange(plaintext.shape[0]):\n",
    "        # local_delta = np.zeros(256, dtype=np.int_)\n",
    "        xor_result = np.bitwise_xor(plaintext[:,byte,np.newaxis], full_keys)\n",
    "        sbox_result = np.take(sbox, xor_result)\n",
    "        \n",
    "        arr = np.right_shift(sbox_result, 7) & 0x01\n",
    "\n",
    "        group1 = np.multiply(arr, times)\n",
    "        group0 = np.subtract(times, group1)\n",
    "\n",
    "        count_nonzero_group1 = np.subtract(1000000, np.count_nonzero(group1==0, axis=0))\n",
    "        count_nonzero_group0 = np.subtract(1000000, np.count_nonzero(group0==0, axis=0))\n",
    "\n",
    "        delta[byte] = np.subtract(np.divide(np.sum(group1, axis=0),count_nonzero_group1), np.divide(np.sum(group0, axis=0),count_nonzero_group0))\n",
    "        # np.add(delta[byte], local_delta)"
   ]
  },
  {
   "cell_type": "code",
   "execution_count": 8,
   "metadata": {},
   "outputs": [],
   "source": [
    "calculate_delta_parallel(plaintext, full_keys, sbox, times, delta)"
   ]
  },
  {
   "cell_type": "code",
   "execution_count": 9,
   "metadata": {},
   "outputs": [
    {
     "name": "stdout",
     "output_type": "stream",
     "text": [
      "Samples vs. Value Plot\n"
     ]
    },
    {
     "data": {
      "image/png": "[encoded data removed]",
      "text/plain": [
       "<Figure size 800x400 with 1 Axes>"
      ]
     },
     "metadata": {},
     "output_type": "display_data"
    }
   ],
   "source": [
    "b = 0\n",
    "%matplotlib inline\n",
    "print('Samples vs. Value Plot')\n",
    "fig, ax = plt.subplots(figsize=(8, 4))\n",
    "ax.plot(delta[b], 'blue')\n",
    "ax.set_title(\"Key Guess for Byte \"+ str(b))\n",
    "ax.set_xlabel('Samples')\n",
    "ax.set_ylabel('Value')\n",
    "plt.show()\n"
   ]
  }
 ],
 "metadata": {
  "interpreter": {
   "hash": "e7370f93d1d0cde622a1f8e1c04877d8463912d04d973331ad4851f04de6915a"
  },
  "kernelspec": {
   "display_name": "Python 3.10.4 64-bit",
   "language": "python",
   "name": "python3"
  },
  "language_info": {
   "codemirror_mode": {
    "name": "ipython",
    "version": 3
   },
   "file_extension": ".py",
   "mimetype": "text/x-python",
   "name": "python",
   "nbconvert_exporter": "python",
   "pygments_lexer": "ipython3",
   "version": "3.11.4"
  }
 },
 "nbformat": 4,
 "nbformat_minor": 4
}
